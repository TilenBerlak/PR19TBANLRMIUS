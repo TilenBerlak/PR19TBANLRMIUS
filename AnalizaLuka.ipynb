{
 "cells": [
  {
   "cell_type": "code",
   "execution_count": 145,
   "metadata": {},
   "outputs": [],
   "source": [
    "from csv import DictReader\n",
    "from csv import StringIO\n",
    "import pandas as pd"
   ]
  },
  {
   "cell_type": "code",
   "execution_count": 146,
   "metadata": {},
   "outputs": [],
   "source": [
    "reader1 = DictReader(open('podatki/pm10_2019Luka.csv', 'rt', encoding='utf-8'))\n",
    "PM10=[]\n",
    "for row in reader1:\n",
    "    datum = row[\"datum\"]\n",
    "    LJ = row[\"LJ_Bežigrad\"]\n",
    "    PM10.append([datum, LJ])  "
   ]
  },
  {
   "cell_type": "code",
   "execution_count": 147,
   "metadata": {},
   "outputs": [],
   "source": [
    "df = pd.read_csv(\"podatki/lj_bezigrad_vseLuka.csv\",delimiter=\";\")\n",
    "df['povpdnevnaT'] = df['povpdnevnaT'].astype(str)\n",
    "df['oblacnost'] = df['oblacnost'].astype(str)\n",
    "df['povprelvla'] = df['povprelvla'].astype(str)\n",
    "df['kolicinapadavin'] = df['kolicinapadavin'].astype(str)\n",
    "df['padavine'] = df['padavine'].astype(str)\n",
    "\n",
    "df1 = pd.read_csv(\"podatki/pm25_2019Luka.csv\",delimiter=\";\")\n",
    "df1['LjubljanaBezigrad'] = df1['LjubljanaBezigrad'].astype(str)"
   ]
  },
  {
   "cell_type": "markdown",
   "metadata": {},
   "source": [
    "V celicah zgoraj si pripravim podatke iz datotek v obliko za obdelavo. Izberem atribute, ki me zanimajo (Vrednost PM10 za Bežigrad, povprečna dnevna temperatura, oblačnost, povprečna relativna vlaga, količina padavin, padavine)"
   ]
  },
  {
   "cell_type": "code",
   "execution_count": 148,
   "metadata": {},
   "outputs": [],
   "source": [
    "x = 0\n",
    "dan = 2\n",
    "dnevi = []\n",
    "for i in PM10:\n",
    "    if(dan < 6):\n",
    "        stri = i[0] + \",\" + i[1] +\",\"+ df1.LjubljanaBezigrad[x] +  \",\" + df.povpdnevnaT[x] + \",\" + df.oblacnost[x] + \",\" + df.povprelvla[x] + \",\" + df.kolicinapadavin[x] + \",\" + df.padavine[x]  \n",
    "        dnevi.append(stri)\n",
    "    elif(dan >= 6):\n",
    "        if(dan == 7):\n",
    "            dan = 0\n",
    "    if(dan == 0):\n",
    "        dan = dan + 1\n",
    "    else:\n",
    "        dan = dan + 1\n",
    "    x = x + 1"
   ]
  },
  {
   "cell_type": "markdown",
   "metadata": {},
   "source": [
    "Ustvarim csv strukturo, za nadaljno uporabo in delitev. Skupaj sestavim meritve PM10 v Bežigradu in ostale atribute iz druge datoteke glede na dan datum. Prav tako odvzamem vse meritve vikendov (sobota, nedelja), saj so te običajno drastično manjše in bi lahko vplivale na izračune."
   ]
  },
  {
   "cell_type": "code",
   "execution_count": 149,
   "metadata": {},
   "outputs": [
    {
     "name": "stdout",
     "output_type": "stream",
     "text": [
      "Vrednosti povprečij in odklonov za merilno postajo Bežigrad:\n",
      "Ko ni padavin; Povprečje PM10 delcev: 24.5566, Povprečje PM2.5 delcev: 17.83019\n",
      "Ko ni padavin; St. odklon PM10 delcev: 12.70327, St. odklon PM2.5 delcev: 10.73798\n",
      "Ob padavinah; Povprečje PM10 delcev: 16.32381, Povprečje PM2.5 delcev: 11.73333\n",
      "Ob padavinah; St. odklon PM10 delcev: 9.07076, St. odklon PM2.5 delcev: 7.31998\n"
     ]
    }
   ],
   "source": [
    "import statistics as st\n",
    "\n",
    "povp10ne = []\n",
    "povp25ne = []\n",
    "povp10da = []\n",
    "povp25da = []\n",
    "for i in dnevi:\n",
    "    spl = i.split(\",\")\n",
    "    if(spl[7] == \"ne\"):\n",
    "        if((spl[1] != \"-\") and (spl[2] != \"-\")):\n",
    "            povp10ne.append(float(spl[1]))\n",
    "            povp25ne.append(float(spl[2]))\n",
    "    if(spl[7] == \"da\"):\n",
    "        if((spl[1] != \"-\") and (spl[2] != \"-\")):\n",
    "            povp10da.append(float(spl[1]))\n",
    "            povp25da.append(float(spl[2]))\n",
    "\n",
    "print(\"Vrednosti povprečij in odklonov za merilno postajo Bežigrad:\")\n",
    "print(\"Ko ni padavin; Povprečje PM10 delcev: \" + str(round(st.mean(povp10ne), 5)) + \", Povprečje PM2.5 delcev: \" + str(round(st.mean(povp25ne), 5)))\n",
    "print(\"Ko ni padavin; St. odklon PM10 delcev: \" + str(round(st.stdev(povp10ne), 5)) + \", St. odklon PM2.5 delcev: \" + str(round(st.stdev(povp25ne), 5)))\n",
    "print(\"Ob padavinah; Povprečje PM10 delcev: \" + str(round(st.mean(povp10da), 5)) + \", Povprečje PM2.5 delcev: \" + str(round(st.mean(povp25da), 5)))\n",
    "print(\"Ob padavinah; St. odklon PM10 delcev: \" + str(round(st.stdev(povp10da), 5)) + \", St. odklon PM2.5 delcev: \" + str(round(st.stdev(povp25da), 5)))"
   ]
  },
  {
   "cell_type": "markdown",
   "metadata": {},
   "source": [
    "Zgoraj razdelim vsak vnos v csv strukturi glede na padavine (da, ne) in ločeno shranim vrednosti. Dni s padavinami je v Bežigradu približno enako kot v celoti sončnih. Iz podatkov je razvidno, da se vrednosti PM10 in PM2.5 drastično razlikujejo glede na padavine."
   ]
  },
  {
   "cell_type": "code",
   "execution_count": 150,
   "metadata": {},
   "outputs": [],
   "source": [
    "#datum,LJ_Bežigrad,LJ_ BF,LJ_GR,Maribor,Zagorje,Hrastnik,Trbovlje,Novo_mesto,Kranj,M.Sobota,Iskrba,Žerjav,Celje,N.Gorica,Velenje,Koper,NG_Grčna,CE_Mar.,MS_Cank.\n",
    "import numpy\n",
    "reader3 = DictReader(open('podatki/pm10_2019Luka.csv', 'rt', encoding='utf-8'))\n",
    "PM10=[]\n",
    "LJB,LJBF,LJGR,MB,ZG,HR,TR,NM,KR,MS,IS,ZR,CE,NG,VE,KP,NGG,CEM,MSC = ([] for i in range(19))\n",
    "for row in reader3:\n",
    "    if(row[\"LJ_Bežigrad\"] != '-'): LJB.append(float(row[\"LJ_Bežigrad\"]))\n",
    "    if(row[\"LJ_ BF\"] != '-'): LJBF.append(float(row[\"LJ_ BF\"]))\n",
    "    if(row[\"LJ_GR\"] != '-'): LJGR.append(float(row[\"LJ_GR\"]))\n",
    "    if(row[\"Maribor\"] != '-'): MB.append(float(row[\"Maribor\"]))\n",
    "    if(row[\"Zagorje\"] != '-'): ZG.append(float(row[\"Zagorje\"]))\n",
    "    if(row[\"Hrastnik\"] != '-'): HR.append(float(row[\"Hrastnik\"]))\n",
    "    if(row[\"Trbovlje\"] != '-'): TR.append(float(row[\"Trbovlje\"]))\n",
    "    if(row[\"Novo_mesto\"] != '-'): NM.append(float(row[\"Novo_mesto\"]))\n",
    "    if(row[\"Kranj\"] != '-'): KR.append(float(row[\"Kranj\"]))\n",
    "    if(row[\"M.Sobota\"] != '-'): MS.append(float(row[\"M.Sobota\"]))\n",
    "    if(row[\"Iskrba\"] != '-'): IS.append(float(row[\"Iskrba\"]))\n",
    "    if(row[\"Žerjav\"] != '-'): ZR.append(float(row[\"Žerjav\"]))\n",
    "    if(row[\"Celje\"] != '-'): CE.append(float(row[\"Celje\"]))\n",
    "    if(row[\"N.Gorica\"] != '-'): NG.append(float(row[\"N.Gorica\"]))\n",
    "    if(row[\"Velenje\"] != '-'): VE.append(float(row[\"Velenje\"]))\n",
    "    if(row[\"Koper\"] != '-'): KP.append(float(row[\"Koper\"]))\n",
    "    if(row[\"NG_Grčna\"] != '-'): NGG.append(float(row[\"NG_Grčna\"]))\n",
    "    if(row[\"CE_Mar.\"] != '-'): CEM.append(float(row[\"CE_Mar.\"]))\n",
    "    if(row[\"MS_Cank.\"] != '-'): MSC.append(float(row[\"MS_Cank.\"]))\n"
   ]
  },
  {
   "cell_type": "code",
   "execution_count": 151,
   "metadata": {},
   "outputs": [],
   "source": [
    "odkloni = []\n",
    "for i in [LJB,LJBF,LJGR,MB,ZG,HR,TR,NM,KR,MS,IS,ZR,CE,NG,VE,KP,NGG,CEM,MSC]:\n",
    "    odkloni.append(round(st.stdev(i), 4))"
   ]
  },
  {
   "cell_type": "markdown",
   "metadata": {},
   "source": [
    "Zgoraj preberem datoteko z vnosi PM10 vrednosti za 19 merilnih postaj glede na dani datum. Imel sem veliko problemov z računanjem standardnega odklona, saj veliko podatkov manjka (-). Teh manjkajočih podatkov sem se znebil precej grdo, kot je razvidno zgoraj. Za vsako postajo sem ustvaril polje in v njo vnesel vrednosti iz te postaje. Nato sem šel čez vsa polja postaj in za vsako posebej izračunal standardni odklon."
   ]
  },
  {
   "cell_type": "code",
   "execution_count": 152,
   "metadata": {},
   "outputs": [
    {
     "data": {
      "image/png": "[encoded data removed]",
      "text/plain": [
       "<Figure size 720x288 with 1 Axes>"
      ]
     },
     "metadata": {
      "needs_background": "light"
     },
     "output_type": "display_data"
    }
   ],
   "source": [
    "\n",
    "import matplotlib.pyplot as plt\n",
    "\n",
    "\n",
    "y = (\"LJB\",\"LJBF\",\"LJGR\",\"MB\",\"ZG\",\"HR\",\"TR\",\"NM\",\"KR\",\"MS\",\"IS\",\"ZR\",\"CE\",\"NG\",\"VE\",\"KP\",\"NG,G\",\"CE,M\",\"MS,C\")\n",
    "plt.figure(figsize=(10, 4))\n",
    "plt.bar(y,odkloni,align='center', width = 0.3) # A bar chart\n",
    "plt.title(\"Prikaz standardnega odklona glede na kraj meritve\")\n",
    "plt.xlabel('Oznake krajev meritev')\n",
    "plt.ylabel('Standardni odklon')\n",
    "\n",
    "plt.show()"
   ]
  },
  {
   "cell_type": "markdown",
   "metadata": {},
   "source": [
    "Zgoraj je izrisan graf, kjer je x os oznaka kraja meritve, y os pa predstavlja vrednost standardnega odklona. Iz podatkov je razvidno, da so v Celju v povprečju najmanj enotno izmerjeni podatki PM10 delcev."
   ]
  },
  {
   "cell_type": "code",
   "execution_count": null,
   "metadata": {},
   "outputs": [],
   "source": []
  }
 ],
 "metadata": {
  "kernelspec": {
   "display_name": "Python 3",
   "language": "python",
   "name": "python3"
  },
  "language_info": {
   "codemirror_mode": {
    "name": "ipython",
    "version": 3
   },
   "file_extension": ".py",
   "mimetype": "text/x-python",
   "name": "python",
   "nbconvert_exporter": "python",
   "pygments_lexer": "ipython3",
   "version": "3.6.3"
  }
 },
 "nbformat": 4,
 "nbformat_minor": 4
}
