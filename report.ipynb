{
 "cells": [
  {
   "cell_type": "markdown",
   "metadata": {},
   "source": [
    "# Kakovost zraka v Sloveniji"
   ]
  },
  {
   "cell_type": "markdown",
   "metadata": {},
   "source": [
    "## Končno poročilo projektne naloge"
   ]
  },
  {
   "cell_type": "markdown",
   "metadata": {},
   "source": [
    "### 1. Uvod"
   ]
  },
  {
   "cell_type": "markdown",
   "metadata": {},
   "source": [
    "V tej projektni nalogi bomo poskušali odkriti zanimive vzorce iz podatkov o kakovosti zraka v Sloveniji. Preverili bomo onesnaženost zraka (koncentracija ozona O3, delci PM10, PM2.5, SO2, CO, O3, NO2, ...) v različnih krajih v Sloveniji in poskušali ugotoviti kateri so najbolj in najmanj onesnaženi. Preverili bomo kako meritve kot so količina padavin, hitrost vetrov, vlaga, temperatura in letni časi vplivajo na stopnjo onesnaženosti. Na voljo imamo urne, dnevne in letne meritve za več let v preteklost. Nekateri podatki so v formatu PDF in XML, kar je vredu saj jih po potrebi lahko pretvorimo v CSV.\n",
    "\n",
    "Poskušali bomo odgovoriti na vprašanja:\n",
    "* Kateri so najbolj in najmanj onesnaženi kraji v Sloveniji?\n",
    "* Ali letni časi vplivajo na onesnaženost?\n",
    "* Za kakšno vrsto onesnaženosti gre (O3, PM10, PM2.5)?\n",
    "* Kako temperatura zraka, vlaga, vetrovi, ..., vplivajo na vse težke kovine v PM10?\n",
    "* Ali ogrevanje domov med zimskim časom vpliva na onesnaženost?"
   ]
  },
  {
   "cell_type": "markdown",
   "metadata": {},
   "source": [
    "### 2. Uporabljeni podatki"
   ]
  },
  {
   "cell_type": "markdown",
   "metadata": {},
   "source": [
    "Na voljo imamo kopico podatkov, vendar se je treba malo potruditi priti do le teh oz. jih dobiti/spremeniti v takšno obliko, ki bo uporabna. Večino podatkov, ki jih bomo uporabili so v pdf obliki, zato smo tabele morali pretvoriti v csv.\n",
    "\n",
    "Mnogo meritvenih postaj zajema podatke izpred desetletij, ampak za začetek se bomo omejili na novejše meritve iz zadnjih dveh let. Po potrebi oz. če dobimo kakšno dobro idejo bomo primerjali novejše z meritvami izpred 10-ih let. \n",
    "\n",
    "Kot vir smo uporabili spletni strani:\n",
    "* https://www.arso.gov.si/zrak/kakovost%20zraka/podatki/\n",
    "* https://meteo.arso.gov.si/\n",
    "\n",
    "Na spletni strani arso je na voljo še analiza delcev PM10, koncentracija vsake težke kovine, ki spada v to kategorijo (aluminij, svinec, baker, ...). To nam bo omogočilo natančno analizo onesnaženosti na vsaki meritveni postaji.\n",
    "\n",
    "Nekatere meritve postaje imajo na voljo tudi podatke o nevihtah, toči, megli, snežni plohi, viharnih vetrih, ipd. So diskretne spremenljivke z vrednostimi \"da\" ali \"ne\". Preverili bomo, če vplivajo na vse možne vremenske spremembe, kot so onesnaženje, temperature in povezave med njimi."
   ]
  },
  {
   "cell_type": "markdown",
   "metadata": {},
   "source": [
    "### 3. Analiza in rezultati"
   ]
  },
  {
   "cell_type": "markdown",
   "metadata": {},
   "source": [
    "#### 3.1 Splošno"
   ]
  },
  {
   "cell_type": "markdown",
   "metadata": {},
   "source": [
    "Najprej smo ustvarili grafe za podatke za količino delcev na splošno. Uporabili smo podatke za delce PM10 in PM2.5 za različne kraje po Sloveniji v letih 2019 in 2020."
   ]
  },
  {
   "cell_type": "markdown",
   "metadata": {},
   "source": [
    "Sledeča grafa prikazujeta vsebnost PM10 in PM2.5 delcev za leto 2019 po mestih."
   ]
  },
  {
   "cell_type": "markdown",
   "metadata": {},
   "source": [
    "![](grafi/pm10splosno19.png)"
   ]
  },
  {
   "cell_type": "markdown",
   "metadata": {},
   "source": [
    "Graf 1: Vsebnost PM10 delcev za leto 2019 po dnevih v letu."
   ]
  },
  {
   "cell_type": "markdown",
   "metadata": {},
   "source": [
    "![](grafi/pm25splosno19.png)"
   ]
  },
  {
   "cell_type": "markdown",
   "metadata": {},
   "source": [
    "Graf 2: Vsebnost PM2.5 delcev za leto 2019 po dnevih v letu."
   ]
  },
  {
   "cell_type": "markdown",
   "metadata": {},
   "source": [
    "Sledeča grafa prikazujeta vsebnost PM10 in PM2.5 delcev za leto 2020 po mestih."
   ]
  },
  {
   "cell_type": "markdown",
   "metadata": {},
   "source": [
    "![](grafi/pm10splosno20.png)"
   ]
  },
  {
   "cell_type": "markdown",
   "metadata": {},
   "source": [
    "Graf 3: Vsebnost PM10 delcev za leto 2020 po dnevih v letu."
   ]
  },
  {
   "cell_type": "markdown",
   "metadata": {},
   "source": [
    "![](grafi/pm25splosno20.png)"
   ]
  },
  {
   "cell_type": "markdown",
   "metadata": {},
   "source": [
    "Graf 4: Vsebnost PM2.5 delcev za leto 2020 po dnevih v letu."
   ]
  },
  {
   "cell_type": "markdown",
   "metadata": {},
   "source": [
    "Podatke za povprečno vrednost delcev za posamezna mesta iz let 2019 in 2020 smo združili in jih primerjali v naslednjih dveh grafih:"
   ]
  },
  {
   "cell_type": "markdown",
   "metadata": {},
   "source": [
    "![](grafi/pm10.jpeg)"
   ]
  },
  {
   "cell_type": "markdown",
   "metadata": {},
   "source": [
    "Graf 5: Povprečna vrednost PM10 delcev za leti 2019 in 2020 po mestih."
   ]
  },
  {
   "cell_type": "markdown",
   "metadata": {},
   "source": [
    "![](grafi/pm25.jpeg)"
   ]
  },
  {
   "cell_type": "markdown",
   "metadata": {},
   "source": [
    "Graf 6: Povprečna vrednost PM25 delcev za leti 2019 in 2020 po mestih."
   ]
  },
  {
   "cell_type": "markdown",
   "metadata": {},
   "source": [
    "Za vsebnost delcev PM10 smo povzeli vrednosti še za meseca april in maj:"
   ]
  },
  {
   "cell_type": "markdown",
   "metadata": {},
   "source": [
    "![](grafi/pm10aprilmaj.jpeg)"
   ]
  },
  {
   "cell_type": "markdown",
   "metadata": {},
   "source": [
    "Graf 7: Povprečna vrednost PM10 delcev za april in maj po mestih."
   ]
  },
  {
   "cell_type": "markdown",
   "metadata": {},
   "source": [
    "Za konec smo primerjali še podatke za letos in lani ter za meseca april in maj med seboj:"
   ]
  },
  {
   "cell_type": "markdown",
   "metadata": {},
   "source": [
    "![](grafi/primerjavalet.jpeg)"
   ]
  },
  {
   "cell_type": "markdown",
   "metadata": {},
   "source": [
    "Graf 8: Primerjava vrednosti za lani in letos po mestih."
   ]
  },
  {
   "cell_type": "markdown",
   "metadata": {},
   "source": [
    "![](grafi/primerjavamesecev.jpeg)"
   ]
  },
  {
   "cell_type": "markdown",
   "metadata": {},
   "source": [
    "Graf 9: Primerjava vrednosti za april in maj po mestih."
   ]
  },
  {
   "cell_type": "markdown",
   "metadata": {},
   "source": [
    "#### 3.2 Specifično po mestih (Celje in Ljubljana-Bežigrad)"
   ]
  },
  {
   "cell_type": "markdown",
   "metadata": {},
   "source": [
    "Za primerjavo podatkov za mesti smo ubrali različna pristopa. Podatke za Celje smo med seboj primerjali glede na vrsto delcev, medtem ko smo podatke za Lj.-Bežigrad primerjali z različnimi podnebniki dejavniki / vplivi."
   ]
  },
  {
   "cell_type": "markdown",
   "metadata": {},
   "source": [
    "#### Celje"
   ]
  },
  {
   "cell_type": "markdown",
   "metadata": {},
   "source": [
    "Opazimo, da je povprečna količina delcev PM2.5 nekoliko manjša od količine delcev PM10 v letu 2019:"
   ]
  },
  {
   "cell_type": "markdown",
   "metadata": {},
   "source": [
    "![](grafi/pm10celje.jpeg)"
   ]
  },
  {
   "cell_type": "markdown",
   "metadata": {},
   "source": [
    "Graf 10: Količina PM10 delcev v Celju za leto 2019."
   ]
  },
  {
   "cell_type": "markdown",
   "metadata": {},
   "source": [
    "![](grafi/pm25celje.jpeg)"
   ]
  },
  {
   "cell_type": "markdown",
   "metadata": {},
   "source": [
    "Graf 11: Količina PM2.5 delcev v Celju za leto 2019."
   ]
  },
  {
   "cell_type": "markdown",
   "metadata": {},
   "source": [
    "#### Bežigrad"
   ]
  },
  {
   "cell_type": "markdown",
   "metadata": {},
   "source": [
    "Podatke za Bežigrad smo primerjali z različnimi vremenskimi dejavniki kot so vlaga, oblačnost, temperatura in količina padavin."
   ]
  },
  {
   "cell_type": "markdown",
   "metadata": {},
   "source": [
    "Korelacija med delci PM10 in PM2.5 je bila pričakovana:"
   ]
  },
  {
   "cell_type": "markdown",
   "metadata": {},
   "source": [
    "![](grafi/bezigrad_korelacija.png)"
   ]
  },
  {
   "cell_type": "markdown",
   "metadata": {},
   "source": [
    "Graf 12: Korelacija med delci PM10 in PM2.5 za Bežigrad."
   ]
  },
  {
   "cell_type": "markdown",
   "metadata": {},
   "source": [
    "Korelacija med temperaturo in gostoto delcev je dokaj očitna, kar bi lahko pripisali dejavniku segrevanja ali pa vlage:"
   ]
  },
  {
   "cell_type": "markdown",
   "metadata": {},
   "source": [
    "![](grafi/bez_temp.png)"
   ]
  },
  {
   "cell_type": "markdown",
   "metadata": {},
   "source": [
    "Graf 13: Korelacija med temperaturo in delci PM2.5 za Bežigrad."
   ]
  },
  {
   "cell_type": "markdown",
   "metadata": {},
   "source": [
    "Pri primerjavi podatkov z oblačnostjo, se je izkazalo, da je vsebnost PM2.5 delcev v zraku bolj ali manj neodvisna od oblačnosti:"
   ]
  },
  {
   "cell_type": "markdown",
   "metadata": {},
   "source": [
    "![](grafi/bez_oblacnost.png)"
   ]
  },
  {
   "cell_type": "markdown",
   "metadata": {},
   "source": [
    "Graf 14: Korelacija med oblačnostjo in delci PM2.5 za Bežigrad."
   ]
  },
  {
   "cell_type": "markdown",
   "metadata": {},
   "source": [
    "Med količino vlage in oblačnostjo iz grafov ne moremo razbrati očitne korelacije:"
   ]
  },
  {
   "cell_type": "markdown",
   "metadata": {},
   "source": [
    "![](grafi/bez_vlaga.png)"
   ]
  },
  {
   "cell_type": "markdown",
   "metadata": {},
   "source": [
    "Graf 15: Korelacija med količino vlage in delci PM2.5 za Bežigrad."
   ]
  },
  {
   "cell_type": "markdown",
   "metadata": {},
   "source": [
    "V pregled med odvisnostmi dejavnikov sledijo grafi za vrednosti čez leto:"
   ]
  },
  {
   "cell_type": "markdown",
   "metadata": {},
   "source": [
    "![](grafi/bez_dejavniki.png)"
   ]
  },
  {
   "cell_type": "markdown",
   "metadata": {},
   "source": [
    "Graf 16: Primerjava grafov za posamezne dejavnike skozi leto."
   ]
  },
  {
   "cell_type": "markdown",
   "metadata": {},
   "source": [
    "#### 3.3 Kako temperaturni dejavniki vplivajo na vse težke kovine v PM10?"
   ]
  },
  {
   "cell_type": "markdown",
   "metadata": {},
   "source": [
    "Za konec smo si želeli še odgovoriti na vprašanje kako temperatura zraka, vlaga in vetrovi vplivajo na težke kovine v PM10."
   ]
  },
  {
   "cell_type": "markdown",
   "metadata": {},
   "source": [
    "Sledeči graf potrjuje, da je količina delcev PM10 bolj ali manj premosorazmerna s temperaturo zraka:"
   ]
  },
  {
   "cell_type": "markdown",
   "metadata": {},
   "source": [
    "![](grafi/pm10temp.jpeg)"
   ]
  },
  {
   "cell_type": "markdown",
   "metadata": {},
   "source": [
    "Graf 17: Primerjava povprečne količine delcev PM10 in temperature zraka po mesecih za leto 2019."
   ]
  },
  {
   "cell_type": "markdown",
   "metadata": {},
   "source": [
    "V primerjavi PM10 delcev le v grobem najdemo korelacijo s hitrostjo vetra:"
   ]
  },
  {
   "cell_type": "markdown",
   "metadata": {},
   "source": [
    "![](grafi/pm10veter.jpeg)"
   ]
  },
  {
   "cell_type": "markdown",
   "metadata": {},
   "source": [
    "Graf 18: Primerjava povprečne količine delcev PM10 in in hitrosti vetra po mesecih za leto 2019."
   ]
  },
  {
   "cell_type": "markdown",
   "metadata": {},
   "source": [
    "Podobno ugotovimo tudi pri primerjavi s količino vlage:"
   ]
  },
  {
   "cell_type": "markdown",
   "metadata": {},
   "source": [
    "![](grafi/pm10vlaga.jpeg)"
   ]
  },
  {
   "cell_type": "markdown",
   "metadata": {},
   "source": [
    "Graf 19: Primerjava povprečne količine delcev PM10 in vlage po mesecih za leto 2019."
   ]
  },
  {
   "cell_type": "markdown",
   "metadata": {},
   "source": [
    "### 4. Zaključek"
   ]
  },
  {
   "cell_type": "markdown",
   "execution_count": null,
   "metadata": {},
   "outputs": [],
   "source": [
   "Povzamemo lahko, da so vrednosti PM10 in PM2.5 delcev odvisne od več dejavnikov: lega, čas, temperatura, vlaga, ...\n",
   "\n",
   "Iz analize podatkov smo ugotovili, da je vrednost delcev PM10 in PM2.5 med seboj korelirana, prav tako pa je bilo pričakovati, da bo prisotnost le-teh precej večja v najbolj poseljenih mestih.\n",
   "\n",
   "Zanimiva je tudi ugotovitev, da prisotnost delcev PM2.5 ni odvisna od oblačnosti, je pa zato bolj odvisna od temperature. To se kaže tudi na podatkih iz posameznih mest, kjer je nivo onesnaženja nižji poleti, ko so temperature najvišje."]
  }
 ],
 "metadata": {
  "kernelspec": {
   "display_name": "Python 3",
   "language": "python",
   "name": "python3"
  },
  "language_info": {
   "codemirror_mode": {
    "name": "ipython",
    "version": 3
   },
   "file_extension": ".py",
   "mimetype": "text/x-python",
   "name": "python",
   "nbconvert_exporter": "python",
   "pygments_lexer": "ipython3",
   "version": "3.6.8"
  }
 },
 "nbformat": 4,
 "nbformat_minor": 2
}
